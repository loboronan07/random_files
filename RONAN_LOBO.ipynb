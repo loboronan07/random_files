{
 "cells": [
  {
   "cell_type": "code",
   "execution_count": 1,
   "id": "397cfc6b",
   "metadata": {},
   "outputs": [],
   "source": [
    "class Graph:\n",
    "    def __init__(self):\n",
    "        self.adjlist = dict()\n",
    "        \n",
    "    def addedge(self, u, v, w):\n",
    "        if u in self.adjlist:\n",
    "            self.adjlist[u][v] = w\n",
    "        else:\n",
    "            self.adjlist[u] = {v:w}\n",
    "        \n",
    "        if v in self.adjlist:\n",
    "            self.adjlist[v][u] = w\n",
    "        else:\n",
    "            self.adjlist[v] = {u:w}"
   ]
  },
  {
   "cell_type": "code",
   "execution_count": 11,
   "id": "db28a53c",
   "metadata": {},
   "outputs": [
    {
     "name": "stdout",
     "output_type": "stream",
     "text": [
      "Enter the number of egdes in the graph: 9\n",
      "Enter the edges as pair values (u, v, weight): \n",
      "A B 7\n",
      "A C 3\n",
      "B C 2\n",
      "B E 6\n",
      "C D 9\n",
      "E D 3\n",
      "E F 2\n",
      "E H 1\n",
      "D G 13\n"
     ]
    }
   ],
   "source": [
    "g = Graph()\n",
    "\n",
    "edges = int(input('Enter the number of egdes in the graph: '))\n",
    "\n",
    "print('Enter the edges as pair values (u, v, weight): ')\n",
    "for _ in range(edges):\n",
    "    u, v, w = tuple(input().split(' '))\n",
    "    w = int(w)\n",
    "    g.addedge(u, v, w)"
   ]
  },
  {
   "cell_type": "code",
   "execution_count": 12,
   "id": "86f81af0",
   "metadata": {
    "scrolled": true
   },
   "outputs": [
    {
     "data": {
      "text/plain": [
       "{'A': {'B': 7, 'C': 3},\n",
       " 'B': {'A': 7, 'C': 2, 'E': 6},\n",
       " 'C': {'A': 3, 'B': 2, 'D': 9},\n",
       " 'E': {'B': 6, 'D': 3, 'F': 2, 'H': 1},\n",
       " 'D': {'C': 9, 'E': 3, 'G': 13},\n",
       " 'F': {'E': 2},\n",
       " 'H': {'E': 1},\n",
       " 'G': {'D': 13}}"
      ]
     },
     "execution_count": 12,
     "metadata": {},
     "output_type": "execute_result"
    }
   ],
   "source": [
    "g.adjlist"
   ]
  },
  {
   "cell_type": "code",
   "execution_count": 29,
   "id": "7aaaa60e",
   "metadata": {},
   "outputs": [],
   "source": [
    "class PQueue:\n",
    "    def __init__(self):\n",
    "        self.queue = []\n",
    "    \n",
    "    def enqueue(self, ele, pri):\n",
    "        self.queue.append((ele, pri))\n",
    "        \n",
    "    def dequeue(self):\n",
    "        if self.isEmpty():\n",
    "            return None, None\n",
    "        \n",
    "        self.queue.sort(key=lambda x:x[1])\n",
    "        \n",
    "        return self.queue.pop(0)\n",
    "    \n",
    "    def isEmpty(self):\n",
    "        return len(self.queue) == 0\n",
    "    \n",
    "    def inQueue(self, ele):\n",
    "        if self.isEmpty():\n",
    "            return None\n",
    "        \n",
    "        for i in range(len(self.queue)):\n",
    "            e, p = self.queue[i]\n",
    "            \n",
    "            if ele == e[-1]:\n",
    "                return p\n",
    "        \n",
    "        return None\n",
    "    \n",
    "    def replace(self, key, ele, pri):\n",
    "        for i in range(len(self.queue)):\n",
    "            e, p = self.queue[i]\n",
    "            \n",
    "            if key == e[-1]:\n",
    "                self.queue.pop(i)\n",
    "                self.enqueue(ele, pri)\n",
    "                return"
   ]
  },
  {
   "cell_type": "code",
   "execution_count": 34,
   "id": "18c3bfa8",
   "metadata": {},
   "outputs": [],
   "source": [
    "def ucs(graph, start, goal):\n",
    "    q = PQueue()\n",
    "    q.enqueue([start], 0)\n",
    "    \n",
    "    visited = set()\n",
    "    \n",
    "    while not q.isEmpty():\n",
    "        path, pri = q.dequeue()\n",
    "        \n",
    "        curr = path[-1]\n",
    "        \n",
    "        visited.add(curr)\n",
    "        \n",
    "        if curr in goal:\n",
    "            return path, pri\n",
    "        \n",
    "        for neighbour in graph.adjlist[curr]:\n",
    "            new_cost = pri + graph.adjlist[curr][neighbour]\n",
    "            new_path = path[:]\n",
    "            new_path.append(neighbour)\n",
    "            if neighbour not in visited and q.inQueue(neighbour)==None:\n",
    "                q.enqueue(new_path, new_cost)\n",
    "            else:\n",
    "                prev_cost = q.inQueue(neighbour)\n",
    "                \n",
    "                if prev_cost != None and prev_cost > new_cost:\n",
    "                    q.replace(neighbour, new_path, new_cost)\n",
    "        \n",
    "    return None, None"
   ]
  },
  {
   "cell_type": "code",
   "execution_count": 36,
   "id": "f7fe7a6a",
   "metadata": {},
   "outputs": [],
   "source": [
    "start = 'A'\n",
    "goal = ['G']\n",
    "\n",
    "path, cost = ucs(g, start, goal)"
   ]
  },
  {
   "cell_type": "code",
   "execution_count": 37,
   "id": "860f992a",
   "metadata": {},
   "outputs": [
    {
     "name": "stdout",
     "output_type": "stream",
     "text": [
      "Path from A to ['G'] is ['A', 'C', 'D', 'G'] with cost 25\n"
     ]
    }
   ],
   "source": [
    "if path == None:\n",
    "    print(f\"Path from {start} to {goal} does not exist\")\n",
    "else:\n",
    "    print(f\"Path from {start} to {goal} is {path} with cost {cost}\")"
   ]
  },
  {
   "cell_type": "code",
   "execution_count": null,
   "id": "c18306bc",
   "metadata": {},
   "outputs": [],
   "source": []
  }
 ],
 "metadata": {
  "kernelspec": {
   "display_name": "Python 3 (ipykernel)",
   "language": "python",
   "name": "python3"
  },
  "language_info": {
   "codemirror_mode": {
    "name": "ipython",
    "version": 3
   },
   "file_extension": ".py",
   "mimetype": "text/x-python",
   "name": "python",
   "nbconvert_exporter": "python",
   "pygments_lexer": "ipython3",
   "version": "3.10.6"
  }
 },
 "nbformat": 4,
 "nbformat_minor": 5
}

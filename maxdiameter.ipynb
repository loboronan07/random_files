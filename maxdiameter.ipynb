{
 "cells": [
  {
   "cell_type": "code",
   "execution_count": 1,
   "id": "e1a75a70",
   "metadata": {},
   "outputs": [],
   "source": [
    "import numpy as np\n",
    "import matplotlib.pyplot as plt\n",
    "import networkx as nx"
   ]
  },
  {
   "cell_type": "code",
   "execution_count": 2,
   "id": "77222b97",
   "metadata": {},
   "outputs": [],
   "source": [
    "g = nx.Graph()\n",
    "g.add_edge(1, 2, weight = 1)\n",
    "g.add_edge(2, 3, weight = 1)\n",
    "g.add_edge(2, 4, weight = 1)\n",
    "g.add_edge(4, 5, weight = 1)\n",
    "g.add_edge(4, 6, weight = 1)\n",
    "g.add_edge(1, 7, weight = 1)\n",
    "g.add_edge(7, 8, weight = 1)\n",
    "g.add_edge(8, 9, weight = 1)\n",
    "g.add_edge(9, 10, weight = 1)\n",
    "g.add_edge(10, 11, weight = 1)\n",
    "g.add_edge(10, 12, weight = 1)\n",
    "g.add_edge(9, 13, weight = 1)"
   ]
  },
  {
   "cell_type": "code",
   "execution_count": 3,
   "id": "b9ff116f",
   "metadata": {},
   "outputs": [
    {
     "data": {
      "image/png": "[encoded data removed]",
      "text/plain": [
       "<Figure size 432x288 with 1 Axes>"
      ]
     },
     "metadata": {},
     "output_type": "display_data"
    }
   ],
   "source": [
    "pos = nx.kamada_kawai_layout(g)\n",
    "nx.draw(g, pos=pos)"
   ]
  },
  {
   "cell_type": "code",
   "execution_count": 4,
   "id": "f82c9168",
   "metadata": {},
   "outputs": [
    {
     "data": {
      "text/plain": [
       "True"
      ]
     },
     "execution_count": 4,
     "metadata": {},
     "output_type": "execute_result"
    }
   ],
   "source": [
    "nx.is_tree(g)"
   ]
  },
  {
   "cell_type": "code",
   "execution_count": null,
   "id": "73d28e01",
   "metadata": {},
   "outputs": [],
   "source": []
  }
 ],
 "metadata": {
  "kernelspec": {
   "display_name": "Python 3 (ipykernel)",
   "language": "python",
   "name": "python3"
  },
  "language_info": {
   "codemirror_mode": {
    "name": "ipython",
    "version": 3
   },
   "file_extension": ".py",
   "mimetype": "text/x-python",
   "name": "python",
   "nbconvert_exporter": "python",
   "pygments_lexer": "ipython3",
   "version": "3.10.6"
  }
 },
 "nbformat": 4,
 "nbformat_minor": 5
}

{
 "cells": [
  {
   "cell_type": "code",
   "execution_count": 1,
   "id": "149d962e",
   "metadata": {},
   "outputs": [],
   "source": [
    "def assign(string, ind, val, chartonum):\n",
    "    if ind == len(string):\n",
    "        return val\n",
    "    else:\n",
    "        c = string[ind]\n",
    "        \n",
    "        if c in chartonum:\n",
    "            val = val*10 + chartonum[c]\n",
    "            return assign(string, ind+1, val, chartonum)\n",
    "        \n",
    "        start = 0 if ind != 0 else 1\n",
    "        \n",
    "        for i in range(start, 10):\n",
    "            if i not in chartonum.values():\n",
    "                val = val*10 + i\n",
    "                chartonum[c] = i\n",
    "                \n",
    "                out = assign(string, ind+1, val, chartonum)\n",
    "                \n",
    "                if out != None:\n",
    "                    return out\n",
    "        \n",
    "        return None"
   ]
  },
  {
   "cell_type": "code",
   "execution_count": 2,
   "id": "b5c7f30d",
   "metadata": {},
   "outputs": [],
   "source": [
    "def solve(arr, i, j, numarr, goal, chartonum):\n",
    "    if i == len(arr):\n",
    "        s = sum(numarr)\n",
    "        return s == assign(goal, 0, 0, chartonum)\n",
    "    else:\n",
    "        if j == len(arr[i]):\n",
    "            return solve(arr, i+1, 0, numarr, goal, chartonum)\n",
    "        else:\n",
    "            c = arr[i][j]\n",
    "            \n",
    "            start = 0\n",
    "            if j == 0:\n",
    "                numarr.append(0)\n",
    "                start = 1\n",
    "            \n",
    "            if c in chartonum:\n",
    "                numarr[i] = numarr[i]*10 + chartonum[c]\n",
    "                if solve(arr, i, j+1, numarr, goal, chartonum):\n",
    "                    return True\n",
    "                else:\n",
    "                    numarr[i] = (numarr[i]-chartonum[c]) / 10 \n",
    "            else:     \n",
    "                for k in range(start, 10):\n",
    "                    if k not in chartonum.values():\n",
    "                        numarr[i] = numarr[i]*10 + k\n",
    "                        chartonum[c] = k\n",
    "                        \n",
    "                        if solve(arr, i, j+1, numarr, goal, chartonum):\n",
    "                            return True\n",
    "                        else:\n",
    "                            numarr[i] = (numarr[i]-k) / 10\n",
    "                            del chartonum[c]\n",
    "            \n",
    "            if j == 0:\n",
    "                numarr.pop()\n",
    "            \n",
    "            return False"
   ]
  },
  {
   "cell_type": "code",
   "execution_count": 3,
   "id": "edc0e4ea",
   "metadata": {},
   "outputs": [],
   "source": [
    "def startsolve(arr, S):\n",
    "    chartonum = dict()\n",
    "    numarr = []\n",
    "    if solve(arr, 0, 0, numarr, S, dict()):\n",
    "        print(\"True\")\n",
    "    else:\n",
    "        print(\"False\")"
   ]
  },
  {
   "cell_type": "code",
   "execution_count": 4,
   "id": "287f6213",
   "metadata": {},
   "outputs": [],
   "source": [
    "arr = [\"SIX\", \"SEVEN\", \"SEVEN\"]\n",
    "S = \"TWENTY\""
   ]
  },
  {
   "cell_type": "code",
   "execution_count": 5,
   "id": "74686bab",
   "metadata": {},
   "outputs": [
    {
     "name": "stdout",
     "output_type": "stream",
     "text": [
      "False\n"
     ]
    }
   ],
   "source": [
    "startsolve(arr, S)"
   ]
  },
  {
   "cell_type": "code",
   "execution_count": null,
   "id": "30739337",
   "metadata": {},
   "outputs": [],
   "source": []
  }
 ],
 "metadata": {
  "kernelspec": {
   "display_name": "Python 3 (ipykernel)",
   "language": "python",
   "name": "python3"
  },
  "language_info": {
   "codemirror_mode": {
    "name": "ipython",
    "version": 3
   },
   "file_extension": ".py",
   "mimetype": "text/x-python",
   "name": "python",
   "nbconvert_exporter": "python",
   "pygments_lexer": "ipython3",
   "version": "3.10.6"
  }
 },
 "nbformat": 4,
 "nbformat_minor": 5
}

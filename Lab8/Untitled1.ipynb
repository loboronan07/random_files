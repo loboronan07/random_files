{
 "cells": [
  {
   "cell_type": "code",
   "execution_count": 1,
   "id": "fa8a9382",
   "metadata": {},
   "outputs": [],
   "source": [
    "def assign(string, ind, val, chartonum):\n",
    "    if ind == len(string):\n",
    "        return val\n",
    "    else:\n",
    "        c = string[ind]\n",
    "        \n",
    "        if c in chartonum:\n",
    "            val = val*10 + chartonum[c]\n",
    "            return assign(string, ind+1, val, chartonum)\n",
    "        \n",
    "        start = 0 if ind != 0 else 1\n",
    "        \n",
    "        for i in range(start, 10):\n",
    "            if i not in chartonum.values():\n",
    "                val = val*10 + i\n",
    "                chartonum[c] = i\n",
    "                \n",
    "                out = assign(string, ind+1, val, chartonum)\n",
    "                \n",
    "                if out != None:\n",
    "                    return out\n",
    "        \n",
    "        return None"
   ]
  },
  {
   "cell_type": "code",
   "execution_count": 6,
   "id": "c258a1a6",
   "metadata": {},
   "outputs": [],
   "source": [
    "def solve(arr, ind, goal, numarr, chartonum):\n",
    "    if ind == len(arr):\n",
    "        s = sum(numarr)\n",
    "        return s == assign(goal, 0, 0, chartonum)\n",
    "    \n",
    "    num = assign(arr[ind], 0, 0, chartonum)\n",
    "    print(arr[ind], num)\n",
    "    \n",
    "    if num != None:\n",
    "        numarr.append(num)\n",
    "        if solve(arr, ind+1, goal, numarr, chartonum):\n",
    "            return True\n",
    "        numarr.pop()\n",
    "    else:\n",
    "        return False"
   ]
  },
  {
   "cell_type": "code",
   "execution_count": 7,
   "id": "0b369f23",
   "metadata": {},
   "outputs": [],
   "source": [
    "def start(arr, S):\n",
    "    chartonum = dict()\n",
    "    numarr = []\n",
    "    \n",
    "    if solve(arr, 0, S, numarr, chartonum):\n",
    "        print(\"True\")\n",
    "    else:\n",
    "        print(\"False\")"
   ]
  },
  {
   "cell_type": "code",
   "execution_count": 8,
   "id": "872c1368",
   "metadata": {},
   "outputs": [],
   "source": [
    "arr = [\"SIX\", \"SEVEN\", \"SEVEN\"]\n",
    "S = \"TWENTY\""
   ]
  },
  {
   "cell_type": "code",
   "execution_count": 9,
   "id": "488baa8c",
   "metadata": {},
   "outputs": [
    {
     "name": "stdout",
     "output_type": "stream",
     "text": [
      "SIX 102\n",
      "SEVEN 13435\n",
      "SEVEN 13435\n",
      "False\n"
     ]
    }
   ],
   "source": [
    "start(arr, S)"
   ]
  },
  {
   "cell_type": "code",
   "execution_count": null,
   "id": "4b499f08",
   "metadata": {},
   "outputs": [],
   "source": []
  }
 ],
 "metadata": {
  "kernelspec": {
   "display_name": "Python 3 (ipykernel)",
   "language": "python",
   "name": "python3"
  },
  "language_info": {
   "codemirror_mode": {
    "name": "ipython",
    "version": 3
   },
   "file_extension": ".py",
   "mimetype": "text/x-python",
   "name": "python",
   "nbconvert_exporter": "python",
   "pygments_lexer": "ipython3",
   "version": "3.10.6"
  }
 },
 "nbformat": 4,
 "nbformat_minor": 5
}

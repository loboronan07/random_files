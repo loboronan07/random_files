{
 "cells": [
  {
   "cell_type": "code",
   "execution_count": 12,
   "id": "b09e2646",
   "metadata": {},
   "outputs": [],
   "source": [
    "def checkgoal(goal, i, gsum, chartonum, numbers, s):\n",
    "    if i == len(goal):\n",
    "        return gsum == s\n",
    "    else:\n",
    "        c = goal[i]\n",
    "        if c in chartonum:\n",
    "            gsum = gsum * 10 + chartonum[c]\n",
    "            if checkgoal(goal, i+1, gsum, chartonum, numbers, s):\n",
    "                return True\n",
    "            else:\n",
    "                gsum = (gsum - chartonum[c]) / 10\n",
    "        else:\n",
    "            start = 0 if i != 0 else 1\n",
    "            for k in range(start, 10):\n",
    "                if k not in numbers:\n",
    "                    gsum = gsum * 10 + k\n",
    "                    chartonum[c] = k\n",
    "                    numbers.add(k)\n",
    "                        \n",
    "                    if checkgoal(goal, i+1, gsum, chartonum, numbers, s):\n",
    "                        return True\n",
    "                    else:\n",
    "                        gsum = (gsum - k) / 10\n",
    "                        del chartonum[c]\n",
    "                        numbers.remove(k)\n",
    "        \n",
    "        return False\n",
    "                    \n",
    "\n",
    "def solve(arr, i, j, numarr, goal, chartonum, numbers):\n",
    "    if i == len(arr):\n",
    "        s = sum(numarr)\n",
    "        return checkgoal(goal, 0, 0, chartonum, numbers, s)\n",
    "    else:\n",
    "        if j == len(arr[i]):\n",
    "            return solve(arr, i+1, 0, numarr, goal, chartonum, numbers)\n",
    "        else:\n",
    "            c = arr[i][j]\n",
    "            \n",
    "            if j == 0:\n",
    "                numarr.append(0)\n",
    "            \n",
    "            if c in chartonum:\n",
    "                numarr[i] = numarr[i] * 10 + chartonum[c]\n",
    "                if solve(arr, i, j+1, numarr, goal, chartonum, numbers):\n",
    "                    return True\n",
    "                else:\n",
    "                    numarr[i] = (numarr[i] - chartonum[c]) / 10 \n",
    "            else:\n",
    "                start = 0 if j != 0 else 1\n",
    "                for k in range(start, 10):\n",
    "                    if k not in numbers:\n",
    "                        numarr[i] = numarr[i] * 10 + k\n",
    "                        chartonum[c] = k\n",
    "                        numbers.add(k)\n",
    "                        \n",
    "                        if solve(arr, i, j+1, numarr, goal, chartonum, numbers):\n",
    "                            return True\n",
    "                        else:\n",
    "                            numarr[i] = (numarr[i] - k) / 10\n",
    "                            del chartonum[c]\n",
    "                            numbers.remove(k)\n",
    "            \n",
    "            if j == 0:\n",
    "                numarr.pop()\n",
    "            \n",
    "            return False"
   ]
  },
  {
   "cell_type": "code",
   "execution_count": 13,
   "id": "ed8891e2",
   "metadata": {},
   "outputs": [],
   "source": [
    "arr = [\"SIX\", \"SEVEN\", \"SEVEN\"]\n",
    "S = \"TWENTY\""
   ]
  },
  {
   "cell_type": "code",
   "execution_count": 14,
   "id": "4308c369",
   "metadata": {},
   "outputs": [],
   "source": [
    "def startsolve(arr, S):\n",
    "    chartonum = dict()\n",
    "    numarr = []\n",
    "    numbers = set()\n",
    "    if solve(arr, 0, 0, numarr, S, dict(), numbers):\n",
    "        print(\"True\")\n",
    "        print(chartonum)\n",
    "        print(numarr)\n",
    "        print(numbers)\n",
    "        \n",
    "    else:\n",
    "        print(\"False\")"
   ]
  },
  {
   "cell_type": "code",
   "execution_count": 15,
   "id": "dfc2b63e",
   "metadata": {
    "scrolled": true
   },
   "outputs": [
    {
     "name": "stdout",
     "output_type": "stream",
     "text": [
      "True\n",
      "{}\n",
      "[650.0, 68782.0, 68782]\n",
      "{4, 3, 1, 7, 0, 5, 6, 2, 8}\n"
     ]
    }
   ],
   "source": [
    "startsolve(arr, S)"
   ]
  },
  {
   "cell_type": "code",
   "execution_count": null,
   "id": "75c80a18",
   "metadata": {},
   "outputs": [],
   "source": []
  }
 ],
 "metadata": {
  "kernelspec": {
   "display_name": "Python 3 (ipykernel)",
   "language": "python",
   "name": "python3"
  },
  "language_info": {
   "codemirror_mode": {
    "name": "ipython",
    "version": 3
   },
   "file_extension": ".py",
   "mimetype": "text/x-python",
   "name": "python",
   "nbconvert_exporter": "python",
   "pygments_lexer": "ipython3",
   "version": "3.10.6"
  }
 },
 "nbformat": 4,
 "nbformat_minor": 5
}

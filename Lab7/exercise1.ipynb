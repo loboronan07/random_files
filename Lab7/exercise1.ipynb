{
 "cells": [
  {
   "cell_type": "code",
   "execution_count": 1,
   "id": "9d2d9c17",
   "metadata": {},
   "outputs": [],
   "source": [
    "def solve(arr, i, j, numarr, goal, chartonum):\n",
    "    if i == len(arr):\n",
    "        word = goal\n",
    "    else:\n",
    "        word = arr[i]\n",
    "    \n",
    "    if j == len(word):\n",
    "        if i == len(arr):\n",
    "            return sum(numarr[:-1]) == numarr[-1]\n",
    "        else:\n",
    "            return solve(arr, i+1, 0, numarr, goal, chartonum)\n",
    "    \n",
    "    c = word[j]\n",
    "    \n",
    "    if j == 0:\n",
    "        numarr.append(0)\n",
    "    \n",
    "    if c in chartonum.keys():\n",
    "        if j == 0 and chartonum[c] == 0:\n",
    "            return False\n",
    "        \n",
    "        numarr[i] = numarr[i]*10 + chartonum[c]\n",
    "        \n",
    "        if solve(arr, i, j+1, numarr, goal, chartonum):\n",
    "            return True\n",
    "        else:\n",
    "            numarr[i] = int((numarr[i]-chartonum[c]) / 10)\n",
    "    \n",
    "    else:\n",
    "        start = 0 if j != 0 else 1\n",
    "        for k in range(start, 10):\n",
    "            if k not in chartonum.values():\n",
    "                chartonum[c] = k\n",
    "                numarr[i] = numarr[i]*10 + k\n",
    "                \n",
    "                if solve(arr, i, j+1, numarr, goal, chartonum):\n",
    "                    return True\n",
    "                else:\n",
    "                    numarr[i] = int((numarr[i]-k) / 10)\n",
    "                    del chartonum[c]\n",
    "        \n",
    "            \n",
    "    if j == 0:\n",
    "        numarr.pop()\n",
    "            \n",
    "    return False"
   ]
  },
  {
   "cell_type": "code",
   "execution_count": 2,
   "id": "41741d25",
   "metadata": {},
   "outputs": [],
   "source": [
    "def issolvable(arr, S):\n",
    "    chartonum = dict()\n",
    "    numarr = []\n",
    "    if solve(arr, 0, 0, numarr, S, chartonum):\n",
    "        print(\"The given cryptarithmetic problem can be solved in the following manner:\\n\")\n",
    "        \n",
    "        for i in range(len(arr)-1):\n",
    "            print(\" %10s      %10d\" % (arr[i], numarr[i]))\n",
    "        print(\"+%10s     +%10d\" % (arr[-1], numarr[-2]))\n",
    "        print(\"----------------------------\")\n",
    "        print(\" %10s      %10d\" % (S, numarr[-1]))\n",
    "    \n",
    "    \n",
    "    else:\n",
    "        print(\"The given cryptarithmetic problem cannot be solved\")"
   ]
  },
  {
   "cell_type": "code",
   "execution_count": 3,
   "id": "57ee0187",
   "metadata": {},
   "outputs": [
    {
     "name": "stdout",
     "output_type": "stream",
     "text": [
      "The given cryptarithmetic problem can be solved in the following manner:\n",
      "\n",
      "        SIX             650\n",
      "      SEVEN           68782\n",
      "+     SEVEN     +     68782\n",
      "----------------------------\n",
      "     TWENTY          138214\n"
     ]
    }
   ],
   "source": [
    "arr = [\"SIX\", \"SEVEN\", \"SEVEN\"]\n",
    "S = \"TWENTY\"\n",
    "\n",
    "issolvable(arr, S)"
   ]
  },
  {
   "cell_type": "code",
   "execution_count": 4,
   "id": "ad113c15",
   "metadata": {},
   "outputs": [
    {
     "name": "stdout",
     "output_type": "stream",
     "text": [
      "The given cryptarithmetic problem can be solved in the following manner:\n",
      "\n",
      "       SEND            9567\n",
      "+      MORE     +      1085\n",
      "----------------------------\n",
      "      MONEY           10652\n"
     ]
    }
   ],
   "source": [
    "arr = [\"SEND\", \"MORE\"]\n",
    "S = \"MONEY\"\n",
    "\n",
    "issolvable(arr, S)"
   ]
  },
  {
   "cell_type": "code",
   "execution_count": 7,
   "id": "66e1d208",
   "metadata": {},
   "outputs": [
    {
     "name": "stdout",
     "output_type": "stream",
     "text": [
      "The given cryptarithmetic problem cannot be solved\n"
     ]
    }
   ],
   "source": [
    "arr = [\"CROSS\", \"ROADS\"]\n",
    "S = \"DANGER\"\n",
    "\n",
    "issolvable(arr, S)"
   ]
  },
  {
   "cell_type": "code",
   "execution_count": 6,
   "id": "7170c4af",
   "metadata": {},
   "outputs": [
    {
     "name": "stdout",
     "output_type": "stream",
     "text": [
      "The given cryptarithmetic problem cannot be solved\n"
     ]
    }
   ],
   "source": [
    "arr = [\"MIT\", \"MANIPAL\"]\n",
    "S = \"MITMAHE\"\n",
    "\n",
    "issolvable(arr, S)"
   ]
  }
 ],
 "metadata": {
  "kernelspec": {
   "display_name": "Python 3 (ipykernel)",
   "language": "python",
   "name": "python3"
  },
  "language_info": {
   "codemirror_mode": {
    "name": "ipython",
    "version": 3
   },
   "file_extension": ".py",
   "mimetype": "text/x-python",
   "name": "python",
   "nbconvert_exporter": "python",
   "pygments_lexer": "ipython3",
   "version": "3.9.12"
  }
 },
 "nbformat": 4,
 "nbformat_minor": 5
}

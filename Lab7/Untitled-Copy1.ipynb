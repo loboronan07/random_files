{
 "cells": [
  {
   "cell_type": "code",
   "execution_count": 7,
   "id": "b09e2646",
   "metadata": {},
   "outputs": [],
   "source": [
    "def checkgoal(goal, i, gsum, chartonum, s):\n",
    "    if i == len(goal):\n",
    "        return gsum == s\n",
    "    else:\n",
    "        c = goal[i]\n",
    "        if c in chartonum:\n",
    "            gsum = gsum * 10 + chartonum[c]\n",
    "            if checkgoal(goal, i+1, gsum, chartonum, s):\n",
    "                return True\n",
    "            else:\n",
    "                gsum = (gsum - chartonum[c]) / 10\n",
    "        else:\n",
    "            start = 0 if i != 0 else 1\n",
    "            for k in range(start, 10):\n",
    "                if k not in chartonum.values():\n",
    "                    gsum = gsum * 10 + k\n",
    "                    chartonum[c] = k\n",
    "                        \n",
    "                    if checkgoal(goal, i+1, gsum, chartonum, s):\n",
    "                        return True\n",
    "                    else:\n",
    "                        gsum = (gsum - k) / 10\n",
    "                        del chartonum[c]\n",
    "        \n",
    "        return False\n",
    "                    \n",
    "\n",
    "def solve(arr, i, j, numarr, goal, chartonum):\n",
    "    if i == len(arr):\n",
    "        s = sum(numarr)\n",
    "        return checkgoal(goal, 0, 0, chartonum, s)\n",
    "    else:\n",
    "        if j == len(arr[i]):\n",
    "            return solve(arr, i+1, 0, numarr, goal, chartonum)\n",
    "        else:\n",
    "            c = arr[i][j]\n",
    "            \n",
    "            if j == 0:\n",
    "                numarr.append(0)\n",
    "            \n",
    "            if c in chartonum:\n",
    "                numarr[i] = numarr[i] * 10 + chartonum[c]\n",
    "                if solve(arr, i, j+1, numarr, goal, chartonum):\n",
    "                    return True\n",
    "                else:\n",
    "                    numarr[i] = (numarr[i] - chartonum[c]) / 10 \n",
    "            else:\n",
    "                start = 0 if j != 0 else 1\n",
    "                for k in range(start, 10):\n",
    "                    if k not in chartonum.values():\n",
    "                        numarr[i] = numarr[i] * 10 + k\n",
    "                        chartonum[c] = k\n",
    "                        \n",
    "                        if solve(arr, i, j+1, numarr, goal, chartonum):\n",
    "                            return True\n",
    "                        else:\n",
    "                            numarr[i] = (numarr[i] - k) / 10\n",
    "                            del chartonum[c]\n",
    "            \n",
    "            if j == 0:\n",
    "                numarr.pop()\n",
    "            \n",
    "            return False"
   ]
  },
  {
   "cell_type": "code",
   "execution_count": 9,
   "id": "4308c369",
   "metadata": {},
   "outputs": [],
   "source": [
    "def startsolve(arr, S):\n",
    "    chartonum = dict()\n",
    "    numarr = []\n",
    "    if solve(arr, 0, 0, numarr, S, chartonum):\n",
    "        print(\"True\")\n",
    "        print(chartonum)\n",
    "        print(numarr)\n",
    "        \n",
    "    else:\n",
    "        print(\"False\")"
   ]
  },
  {
   "cell_type": "code",
   "execution_count": 8,
   "id": "ed8891e2",
   "metadata": {},
   "outputs": [],
   "source": [
    "arr = [\"SIX\", \"SEVEN\", \"SEVEN\"]\n",
    "S = \"TWENTY\""
   ]
  },
  {
   "cell_type": "code",
   "execution_count": 10,
   "id": "dfc2b63e",
   "metadata": {
    "scrolled": true
   },
   "outputs": [
    {
     "name": "stdout",
     "output_type": "stream",
     "text": [
      "True\n",
      "{'S': 6, 'I': 5, 'X': 0, 'E': 8, 'V': 7, 'N': 2, 'T': 1, 'W': 3, 'Y': 4}\n",
      "[650.0, 68782.0, 68782]\n"
     ]
    }
   ],
   "source": [
    "startsolve(arr, S)"
   ]
  },
  {
   "cell_type": "code",
   "execution_count": 23,
   "id": "eb8b8256",
   "metadata": {},
   "outputs": [],
   "source": [
    "arr = [\"SIX\"]\n",
    "S = \"SIX\""
   ]
  },
  {
   "cell_type": "code",
   "execution_count": 24,
   "id": "361354a3",
   "metadata": {},
   "outputs": [
    {
     "name": "stdout",
     "output_type": "stream",
     "text": [
      "True\n",
      "{'S': 1, 'I': 0, 'X': 2}\n",
      "[102]\n"
     ]
    }
   ],
   "source": [
    "startsolve(arr, S)"
   ]
  },
  {
   "cell_type": "code",
   "execution_count": 16,
   "id": "75c80a18",
   "metadata": {},
   "outputs": [],
   "source": [
    "arr = [1, 2, 3, 4, 5, 6, 7, 8, 9, 10, 55]"
   ]
  },
  {
   "cell_type": "code",
   "execution_count": 17,
   "id": "830d9166",
   "metadata": {},
   "outputs": [
    {
     "data": {
      "text/plain": [
       "[1, 2, 3, 4, 5, 6, 7, 8, 9, 10]"
      ]
     },
     "execution_count": 17,
     "metadata": {},
     "output_type": "execute_result"
    }
   ],
   "source": [
    "arr[:-1]"
   ]
  },
  {
   "cell_type": "code",
   "execution_count": 18,
   "id": "53b6d673",
   "metadata": {},
   "outputs": [
    {
     "data": {
      "text/plain": [
       "55"
      ]
     },
     "execution_count": 18,
     "metadata": {},
     "output_type": "execute_result"
    }
   ],
   "source": [
    "arr[-1]"
   ]
  },
  {
   "cell_type": "code",
   "execution_count": 20,
   "id": "be2a0e7a",
   "metadata": {},
   "outputs": [
    {
     "data": {
      "text/plain": [
       "True"
      ]
     },
     "execution_count": 20,
     "metadata": {},
     "output_type": "execute_result"
    }
   ],
   "source": [
    "sum(arr[:-1])== arr[-1]"
   ]
  },
  {
   "cell_type": "code",
   "execution_count": 21,
   "id": "f58b8757",
   "metadata": {},
   "outputs": [],
   "source": [
    "arr = [1, 1]"
   ]
  },
  {
   "cell_type": "code",
   "execution_count": 22,
   "id": "29daf178",
   "metadata": {},
   "outputs": [
    {
     "data": {
      "text/plain": [
       "True"
      ]
     },
     "execution_count": 22,
     "metadata": {},
     "output_type": "execute_result"
    }
   ],
   "source": [
    "sum(arr[:-1]) == arr[-1]"
   ]
  },
  {
   "cell_type": "code",
   "execution_count": 25,
   "id": "0c739e17",
   "metadata": {},
   "outputs": [
    {
     "data": {
      "text/plain": [
       "[-1,\n",
       " -1,\n",
       " -1,\n",
       " -1,\n",
       " -1,\n",
       " -1,\n",
       " -1,\n",
       " -1,\n",
       " -1,\n",
       " -1,\n",
       " -1,\n",
       " -1,\n",
       " -1,\n",
       " -1,\n",
       " -1,\n",
       " -1,\n",
       " -1,\n",
       " -1,\n",
       " -1,\n",
       " -1,\n",
       " -1,\n",
       " -1,\n",
       " -1,\n",
       " -1,\n",
       " -1,\n",
       " -1]"
      ]
     },
     "execution_count": 25,
     "metadata": {},
     "output_type": "execute_result"
    }
   ],
   "source": [
    "[-1] * 26"
   ]
  },
  {
   "cell_type": "code",
   "execution_count": null,
   "id": "97e67cc0",
   "metadata": {},
   "outputs": [],
   "source": []
  }
 ],
 "metadata": {
  "kernelspec": {
   "display_name": "Python 3 (ipykernel)",
   "language": "python",
   "name": "python3"
  },
  "language_info": {
   "codemirror_mode": {
    "name": "ipython",
    "version": 3
   },
   "file_extension": ".py",
   "mimetype": "text/x-python",
   "name": "python",
   "nbconvert_exporter": "python",
   "pygments_lexer": "ipython3",
   "version": "3.9.12"
  }
 },
 "nbformat": 4,
 "nbformat_minor": 5
}

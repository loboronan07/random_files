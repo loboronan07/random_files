{
 "cells": [
  {
   "cell_type": "code",
   "execution_count": 1,
   "id": "edc2cb0c",
   "metadata": {},
   "outputs": [
    {
     "name": "stdout",
     "output_type": "stream",
     "text": [
      "Yes\n"
     ]
    }
   ],
   "source": [
    "def isSolvable(words, result):    \n",
    "    mp = [-1]*(26)\n",
    "    used = [0]*(10)\n",
    "    Hash = [0]*(26)\n",
    "    CharAtfront = [0]*(26)\n",
    "    uniq = \"\"\n",
    "    for word in range(len(words)):\n",
    "        for i in range(len(words[word])):\n",
    "            ch = words[word][i]\n",
    "            Hash[ord(ch) - ord('A')] += pow(10, len(words[word]) - i - 1)\n",
    "            if mp[ord(ch) - ord('A')] == -1:\n",
    "                mp[ord(ch) - ord('A')] = 0\n",
    "                uniq += str(ch)\n",
    "            if i == 0 and len(words[word]) > 1:\n",
    "                CharAtfront[ord(ch) - ord('A')] = 1\n",
    "    for i in range(len(result)):\n",
    "        ch = result[i]\n",
    "\n",
    "        Hash[ord(ch) - ord('A')] -= pow(10, len(result) - i - 1)\n",
    "        if mp[ord(ch) - ord('A')] == -1:\n",
    "            mp[ord(ch) - ord('A')] = 0\n",
    "            uniq += str(ch)\n",
    "        if i == 0 and len(result) > 1:\n",
    "            CharAtfront[ord(ch) - ord('A')] = 1\n",
    "\n",
    "    return True\n",
    "\n",
    "def solve(words, i, S, mp, used, Hash, CharAtfront):\n",
    "    if i == len(words):\n",
    "        return S == 0\n",
    "    ch = words[i]\n",
    "    val = mp[ord(words[i]) - ord('A')]\n",
    "    if val != -1:\n",
    "        return solve(words, i + 1, S + val * Hash[ord(ch) - ord('A')], mp, used, Hash, CharAtfront)\n",
    "    x = False\n",
    "    for l in range(10):\n",
    "        if CharAtfront[ord(ch) - ord('A')] == 1 and l == 0:\n",
    "            continue\n",
    "        if used[l] == 1:\n",
    "            continue\n",
    "        mp[ord(ch) - ord('A')] = l\n",
    "        used[l] = 1\n",
    "        x = solve(words, i + 1, S + l * Hash[ord(ch) - ord('A')], mp, used, Hash, CharAtfront)\n",
    "                                            \n",
    "        mp[ord(ch) - ord('A')] = -1\n",
    "        used[l] = 0\n",
    "        \n",
    "    return x\n",
    "\n",
    "arr = [\"SIX\", \"SEVEN\", \"SEVEN\"]\n",
    "S = \"TWENTY\"\n",
    "\n",
    "if isSolvable(arr, S):\n",
    "    print(\"Yes\")\n",
    "else:\n",
    "    print(\"No\")"
   ]
  },
  {
   "cell_type": "code",
   "execution_count": null,
   "id": "dce6d44d",
   "metadata": {},
   "outputs": [],
   "source": []
  }
 ],
 "metadata": {
  "kernelspec": {
   "display_name": "Python 3 (ipykernel)",
   "language": "python",
   "name": "python3"
  },
  "language_info": {
   "codemirror_mode": {
    "name": "ipython",
    "version": 3
   },
   "file_extension": ".py",
   "mimetype": "text/x-python",
   "name": "python",
   "nbconvert_exporter": "python",
   "pygments_lexer": "ipython3",
   "version": "3.9.12"
  }
 },
 "nbformat": 4,
 "nbformat_minor": 5
}
